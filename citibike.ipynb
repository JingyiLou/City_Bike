{
 "cells": [
  {
   "cell_type": "markdown",
   "metadata": {},
   "source": [
    "# City Bike Population Trending Analysis\n",
    "This is an analysis of the citybike popularity treading problem, which operates in NYC. Of all city bike stations we don't know which are trending up in popularity and which are trending down, so that we can focus our attention on that station for futher data analysis. Using open data, we count the number of times that each station appears as either start station or end station on a trip in Jan. and Feb., and we compare the numbers of times of each station in two month. We identify the population trending rate for each station, and so we can do more for the further analysis.  "
   ]
  },
  {
   "cell_type": "code",
   "execution_count": 49,
   "metadata": {
    "collapsed": false
   },
   "outputs": [
    {
     "name": "stdout",
     "output_type": "stream",
     "text": [
      "{'Halsey St & Tompkins Ave': 'down', 'Cliff St & Fulton St': 'up', 'Myrtle Ave & Lewis Ave': 'up', 'W 74 St & Columbus Ave': 'down', 'Rivington St & Chrystie St': 'up', 'Old Fulton St': 'up', 'East End Ave & E 86 St': 'up', 'Jackson Ave & 46 Rd': 'up', 'Clermont Ave & Park Ave': 'down', 'E 72 St & York Ave': 'up', 'E 47 St & 1 Ave': 'down', 'Columbus Ave & W 72 St': 'down', 'E 47 St & 2 Ave': 'up', 'W 13 St & 5 Ave': 'up', 'W 15 St & 7 Ave': 'up', 'Kent Ave & N 7 St': 'up', 'E 19 St & 3 Ave': 'up', 'W 43 St & 6 Ave': 'up', 'Columbia Heights & Cranberry St': 'up', 'Concord St & Bridge St': 'up', 'Cumberland St & Lafayette Ave': 'up', 'Catherine St & Monroe St': 'up', 'DeKalb Ave & S Portland Ave': 'up', 'Norfolk St & Broome St': 'up', 'W 84 St & Columbus Ave': 'up', 'Suffolk St & Stanton St': 'up', 'W 56 St & 10 Ave': 'down', 'St James Pl & Oliver St': 'up', 'Park Ave & Marcus Garvey Blvd': 'up', 'E 41 St & Madison Ave': 'up', 'William St & Pine St': 'up', 'Broadway & E 14 St': 'down', 'Union Ave & N 12 St': 'up', 'Atlantic Ave & Furman St': 'up', 'W 59 St & 10 Ave': 'up', 'Willoughby Ave & Hall St': 'up', 'Bank St & Washington St': 'up', 'Clinton St & Tillary St': 'up', 'Clermont Ave & Lafayette Ave': 'down', 'Lewis Ave & Decatur St': 'up', 'Broadway & W 51 St': 'up', '12 Ave & W 40 St': 'up', 'Willoughby Ave & Tompkins Ave': 'up', 'W 20 St & 7 Ave': 'up', 'Pitt St & Stanton St': 'down', 'Pearl St & Anchorage Pl': 'up', 'E 2 St & Avenue C': 'up', 'E 20 St & Park Ave': 'up', 'South St & Gouverneur Ln': 'up', 'W 54 St & 9 Ave': 'Null', 'Railroad Ave & Kay Ave': 'down', 'York St & Jay St': 'up', 'Broadway & W 60 St': 'up', 'W 38 St & 8 Ave': 'up', 'Roebling St & N 4 St': 'up', 'E 3 St & 1 Ave': 'up', 'Myrtle Ave & Marcy Ave': 'up', '21 St & 41 Ave': 'up', 'Division St & Bowery': 'up', 'West St & Chambers St': 'up', 'E 84 St & 1 Ave': 'up', 'W 49 St & 8 Ave': 'up', 'E 53 St & Lexington Ave': 'up', 'Graham Ave & Grand St': 'down', 'Boerum St & Broadway': 'up', 'Washington Ave & Greene Ave': 'up', 'Hanson Pl & St Felix St': 'up', '8 Ave & W 52 St': 'up', 'E 15 St & 3 Ave': 'up', '11 Ave & W 59 St': 'up', 'Broadway & W 29 St': 'up', '11 Ave & W 27 St': 'up', 'Union Ave & Wallabout St': 'down', 'E 25 St & 2 Ave': 'up', 'Lafayette St & E 8 St': 'up', 'Avenue D & E 8 St': 'up', 'Putnam Ave & Nostrand Ave': 'up', 'Hudson St & Reade St': 'up', 'Clark St & Henry St': 'up', 'E 55 St & Lexington Ave': 'up', '6 Ave & W 33 St': 'up', 'Elizabeth St & Hester St': 'up', '46 Ave & 5 St': 'up', 'E 75 St & 3 Ave': 'down', '10 Ave & W 28 St': 'up', '8 Ave & W 31 St': 'up', '3 Ave & Schermerhorn St': 'down', 'W 78 St & Broadway': 'up', 'Atlantic Ave & Fort Greene Pl': 'down', 'Leonard St & Church St': 'up', '1 Ave & E 30 St': 'up', 'W 41 St & 8 Ave': 'up', 'PABT Valet': 'up', '9 Ave & W 45 St': 'up', 'W 20 St & 11 Ave': 'up', 'W 25 St & 6 Ave': 'up', 'Graham Ave & Withers St': 'up', 'Lexington Ave & E 24 St': 'up', 'Carmine St & 6 Ave': 'up', 'E 12 St & 3 Ave': 'up', 'Greenwich St & Warren St': 'down', 'W 56 St & 6 Ave': 'up', 'DeKalb Ave & Hudson Ave': 'up', 'Broadway & Whipple St': 'up', 'W 64 St & West End Ave': 'down', 'Marcus Garvey Blvd & Macon St': 'up', 'Bond St & Schermerhorn St': 'down', 'Amsterdam Ave & W 73 St': 'up', 'Washington Park': 'up', 'Greenwich Ave & Charles St': 'up', 'NYCBS Depot - FAR': 'down', 'Kingston Ave & Herkimer St': 'down', 'Cambridge Pl & Gates Ave': 'up', 'W 39 St & 9 Ave': 'up', 'W 84 St & Broadway': 'up', 'E 59 St & Madison Ave': 'up', 'E 80 St & 2 Ave': 'up', '3 Ave & E 62 St': 'up', 'W 37 St & 5 Ave': 'up', 'E 16 St & 5 Ave': 'up', 'Monroe St & Bedford Ave': 'up', 'Graham Ave & Conselyea St': 'up', 'Scholes St & Manhattan Ave': 'up', 'E 11 St & Broadway': 'up', 'E 48 St & 5 Ave': 'up', 'Pike St & E Broadway': 'up', 'Front St & Maiden Ln': 'up', 'E 72 St & Park Ave': 'up', 'Madison St & Montgomery St': 'up', 'FDR Drive & E 35 St': 'up', '1 Ave & E 44 St': 'up', 'Broadway & E 22 St': 'up', 'W 44 St & 5 Ave': 'up', 'Vernon Blvd & 50 Ave': 'up', 'W 11 St & 6 Ave': 'up', 'E 39 St & 2 Ave': 'up', '5 Ave & E 78 St': 'up', 'Pershing Square North': 'up', 'Allen St & E Houston St': 'up', 'Bedford Ave & S 9 St': 'up', 'Hancock St & Bedford Ave': 'up', 'Johnson St & Gold St': 'down', 'Washington Ave & Park Ave': 'up', 'Howard St & Centre St': 'up', 'St Marks Pl & 1 Ave': 'up', 'S 4 St & Rodney St': 'down', 'Division Ave & Marcy Ave': 'down', 'E 20 St & 2 Ave': 'up', 'Humboldt St & Varet St': 'up', 'Huron St & Franklin St': 'up', 'DeKalb Ave & Skillman St': 'up', 'Pike St & Monroe St': 'up', 'Kent Ave & S 11 St': 'up', 'E 45 St & 3 Ave': 'up', 'E 47 St & Park Ave': 'up', 'Van Vorst Park': 'Null', 'Cherry St': 'up', 'Mercer St & Bleecker St': 'up', 'Lexington Ave & E 63 St': 'up', 'Cadman Plaza West & Montague St': 'up', 'W 52 St & 11 Ave': 'up', '6 Ave & Canal St': 'up', 'Broadway & W 49 St': 'up', 'E 39 St & 3 Ave': 'up', 'Water - Whitehall Plaza': 'up', 'Clinton Ave & Flushing Ave': 'down', 'MacDougal St & Washington Sq': 'down', 'E 48 St & 3 Ave': 'up', 'Bayard St & Baxter St': 'up', 'Driggs Ave & Lorimer St': 'up', 'West Thames St': 'up', 'Lefferts Pl & Franklin Ave': 'up', '47 Ave & 31 St': 'up', 'E 55 St & 3 Ave': 'up', 'Lewis Ave & Madison St': 'down', 'N 11 St & Wythe Ave': 'up', 'Grand St & Havemeyer St': 'up', 'Washington Pl & Broadway': 'up', 'Broadway & Berry St': 'up', 'W 34 St & 11 Ave': 'down', 'Harrison St & Hudson St': 'up', '9 Ave & W 22 St': 'up', 'Lawrence St & Willoughby St': 'up', 'LaGuardia Pl & W 3 St': 'up', '44 Dr & Jackson Ave': 'up', 'Perry St & Bleecker St': 'up', 'Stagg St & Union Ave': 'up', '6 Ave & Broome St': 'up', 'W 20 St & 8 Ave': 'up', 'Shevchenko Pl & E 7 St': 'up', 'E 9 St & Avenue C': 'up', 'E 2 St & 2 Ave': 'down', 'Riverside Blvd & W 67 St': 'up', 'Fulton St & Utica Ave': 'down', 'Henry St & Atlantic Ave': 'up', 'E 2 St & Avenue B': 'up', 'E 5 St & Avenue C': 'up', 'W 17 St & 8 Ave': 'up', 'Bank St & Hudson St': 'up', 'Broadway & W 32 St': 'up', 'E 31 St & 3 Ave': 'up', 'Broadway & W 37 St': 'up', 'S 3 St & Bedford Ave': 'up', 'Greenwich St & W Houston St': 'up', 'Nassau St & Navy St': 'down', 'Centre St & Chambers St': 'up', 'Lispenard St & Broadway': 'up', 'Bus Slip & State St': 'up', 'Tompkins Ave & Hopkins St': 'up', 'E 55 St & 2 Ave': 'up', 'Mott St & Prince St': 'up', 'Canal St & Rutgers St': 'up', 'E 37 St & Lexington Ave': 'up', 'Reade St & Broadway': 'up', 'S Portland Ave & Hanson Pl': 'up', 'Clinton Ave & Myrtle Ave': 'up', 'Central Park West & W 85 St': 'up', 'Bedford Ave & Nassau Ave': 'up', 'Greenwich Ave & 8 Ave': 'up', 'Throop Ave & Myrtle Ave': 'down', 'Monroe St & Tompkins Ave': 'up', 'DeKalb Ave & Vanderbilt Ave': 'up', 'W 33 St & 7 Ave': 'up', 'W 27 St & 7 Ave': 'up', 'W 29 St & 9 Ave': 'down', 'Bond St & Fulton St': 'up', 'Forsyth St & Canal St': 'up', 'Cleveland Pl & Spring St': 'up', 'Broad St & Bridge St': 'up', 'W 22 St & 8 Ave': 'up', '9 Ave & W 16 St': 'up', 'Allen St & Hester St': 'up', 'E 32 St & Park Ave': 'up', 'W 47 St & 10 Ave': 'up', 'Central Park S & 6 Ave': 'up', 'Milton St & Franklin St': 'up', 'University Pl & E 8 St': 'up', 'W 13 St & 6 Ave': 'up', 'Franklin St & Dupont St': 'down', 'E 13 St & Avenue A': 'up', 'Jay St & Tech Pl': 'up', 'NYCBS Depot BAL - DYR': 'up', 'E 14 St & Avenue B': 'up', 'Broadway & W 36 St': 'up', 'E 84 St & Park Ave': 'up', 'Broadway & W 39 St': 'up', 'W 52 St & 5 Ave': 'up', 'St Marks Pl & 2 Ave': 'up', '31 St & Thomson Ave': 'up', 'Lexington Ave & Classon Ave': 'down', 'Leonard St & Boerum St': 'up', 'Duane St & Greenwich St': 'up', 'John St & William St': 'up', 'Clinton St & Joralemon St': 'down', 'E 81 St & York Ave': 'up', 'E 51 St & 1 Ave': 'up', 'E 23 St & 1 Ave': 'up', 'Dean St & 4 Ave': 'up', 'W 76 St & Columbus Ave': 'up', 'Grand Army Plaza & Central Park S': 'up', 'E 85 St & 3 Ave': 'up', 'W 13 St & 7 Ave': 'down', 'Barrow St & Hudson St': 'up', 'Leonard St & Manhattan Ave': 'up', 'Adelphi St & Myrtle Ave': 'up', '48 Ave & 5 St': 'down', '1 Ave & E 62 St': 'up', 'Banker St & Meserole Ave': 'up', 'Fulton St & Washington Ave': 'up', 'Meserole Ave & Manhattan Ave': 'up', 'Kosciuszko St & Tompkins Ave': 'down', 'E 60 St & York Ave': 'down', 'McKibbin St & Manhattan Ave': 'up', 'W 26 St & 8 Ave': 'up', 'Cadman Plaza E & Tillary St': 'up', 'Henry St & Poplar St': 'up', 'Wythe Ave & Metropolitan Ave': 'up', 'Madison St & Clinton St': 'down', 'W 43 St & 10 Ave': 'up', 'Park Ave & St Edwards St': 'up', 'E 43 St & 2 Ave': 'up', 'W 45 St & 8 Ave': 'up', '9 Ave & W 18 St': 'up', '45 Rd & 11 St': 'down', 'E 27 St & 1 Ave': 'up', 'Henry St & Grand St': 'up', 'Central Park West & W 76 St': 'up', 'E 30 St & Park Ave S': 'up', 'NYCBS Depot - SSP': 'up', 'Macon St & Nostrand Ave': 'down', 'Lexington Ave & E 29 St': 'up', 'Carlton Ave & Park Ave': 'up', 'Maiden Ln & Pearl St': 'up', 'Leonard St & Meeker Ave': 'down', 'W 63 St & Broadway': 'up', 'W 24 St & 7 Ave': 'up', 'E 4 St & 2 Ave': 'up', 'S 4 St & Wythe Ave': 'up', 'Fulton St & Rockwell Pl': 'up', '1 Ave & E 15 St': 'up', 'Berry St & N 8 St': 'up', 'Lafayette St & Jersey St': 'up', 'Centre St & Worth St': 'up', 'Monroe St & Classon Ave': 'up', 'Clinton St & Grand St': 'up', 'Amsterdam Ave & W 82 St': 'up', 'Front St & Washington St': 'down', 'Duffield St & Willoughby St': 'up', 'Broadway & W 41 St': 'up', 'Montrose Ave & Bushwick Ave': 'up', 'Leonard St & Grand St': 'up', 'E 51 St & Lexington Ave': 'up', 'Liberty St & Broadway': 'up', 'Grand St & Greene St': 'up', 'W 22 St & 10 Ave': 'up', 'South St & Whitehall St': 'up', 'Greenwich St & N Moore St': 'up', 'Central Park West & W 68 St': 'up', 'E 85 St & York Ave': 'up', 'E 33 St & 5 Ave': 'up', 'University Pl & E 14 St': 'up', 'Broadway & W 53 St': 'up', 'Greene Ave & Throop Ave': 'down', 'Cadman Plaza W & Pierrepont St': 'down', 'E 10 St & Avenue A': 'up', 'Old Slip & Front St': 'up', 'Peck Slip & Front St': 'up', 'W 31 St & 7 Ave': 'up', 'Avenue D & E 12 St': 'up', 'Carlton Ave & Flushing Ave': 'up', 'W 16 St & The High Line': 'up', 'State St & Smith St': 'down', 'Paulus Hook': 'Null', 'MacDougal St & Prince St': 'up', 'Greenpoint Ave & Manhattan Ave': 'up', 'W 45 St & 6 Ave': 'up', 'E 58 St & 1 Ave': 'up', 'Barclay St & Church St': 'up', 'Columbia St & Rivington St': 'down', 'Metropolitan Ave & Bedford Ave': 'up', 'Lafayette Ave & Fort Greene Pl': 'up', 'Front St & Gold St': 'up', 'Stanton St & Chrystie St': 'up', 'Myrtle Ave & St Edwards St': 'down', 'E 52 St & 2 Ave': 'up', 'N 12 St & Bedford Ave': 'up', 'Washington Pl & 6 Ave': 'up', 'E 81 St & 3 Ave': 'up', 'Fulton St & Broadway': 'up', 'Warren St & Church St': 'down', 'E 7 St & Avenue A': 'up', 'Fulton St & William St': 'up', 'Stanton St & Mangin St': 'down', 'Fulton St & Clermont Ave': 'down', 'Marcy Ave & MacDonough St': 'up', 'Graham Ave & Herbert St': 'up', 'Central Park West & W 72 St': 'up', 'Riverside Dr & W 78 St': 'up', 'Frost St & Meeker St': 'up', 'Center Blvd & Borden Ave': 'up', 'N 15 St & Wythe Ave': 'up', 'W 14 St & The High Line': 'up', 'W 82 St & Central Park West': 'up', 'Market St & Cherry St': 'down', 'Broadway & Roebling St': 'down', 'Hicks St & Montague St': 'up', 'E 53 St & Madison Ave': 'up', 'W 21 St & 6 Ave': 'up', 'Mercer St & Spring St': 'up', 'W 13 St & Hudson St': 'up', 'Division Ave & Hooper St': 'up', 'E 6 St & Avenue B': 'up', 'Christopher St & Greenwich St': 'up', 'Broadway & W 55 St': 'up', '5 Ave & E 29 St': 'up', 'W 52 St & 9 Ave': 'down', 'Washington St & Gansevoort St': 'down', 'Pearl St & Hanover Square': 'up', 'E 11 St & 2 Ave': 'up', 'Great Jones St': 'up', 'E 11 St & 1 Ave': 'up', 'Willoughby Ave & Walworth St': 'down', 'Union Ave & Jackson St': 'down', 'S 5 Pl & S 4 St': 'up', 'E 24 St & Park Ave S': 'up', 'Sullivan St & Washington Sq': 'up', 'Queens Plaza North & Crescent St': 'down', 'W 4 St & 7 Ave S': 'up', 'W 26 St & 10 Ave': 'up', 'W 37 St & 10 Ave': 'up', 'E 25 St & 1 Ave': 'down', 'Riverside Dr & W 72 St': 'up', 'Grove St PATH': 'down', 'St James Pl & Pearl St': 'up', 'N 8 St & Driggs Ave': 'up', 'W 53 St & 10 Ave': 'up', 'Lafayette Ave & Classon Ave': 'up', 'Pershing Square South': 'up', 'E 40 St & 5 Ave': 'up', 'Devoe St & Leonard St': 'up', 'Bushwick Ave & Powers St': 'down', 'Essex Light Rail': 'down', 'Vesey Pl & River Terrace': 'up', 'Albany Ave & Fulton St': 'down', 'Leonard St & Bayard St': 'up', 'Forsyth St & Broome St': 'up', 'Willoughby St & Fleet St': 'down', 'Lewis Ave & Kosciuszko St': 'up', 'Brooklyn Bridge Park - Pier 2': 'up', '11 Ave & W 41 St': 'up', 'Cadman Plaza E & Red Cross Pl': 'up', '9 St & 44 Rd': 'down', 'Metropolitan Ave & Meeker Ave': 'up', 'Norman Ave & Leonard St': 'down', 'Broadway & W 58 St': 'up', '1 Ave & E 18 St': 'up', 'N Henry St & Richardson St': 'up', 'Nassau Ave & Russell St': 'up', 'Hope St & Union Ave': 'up', 'Sands St & Navy St': 'up', '21 St & 43 Ave': 'down', 'E 10 St & 5 Ave': 'down', 'E 58 St & 3 Ave': 'up', 'Lafayette Ave & St James Pl': 'up', 'W 42 St & 8 Ave': 'down', 'Driggs Ave & N Henry St': 'down', '5 Ave & E 63 St': 'up', '2 Ave & E 31 St': 'up', 'Schermerhorn St & Court St': 'up', 'Little West St & 1 Pl': 'up', 'Penn Station Valet': 'up', 'W 70 St & Amsterdam Ave': 'down', 'E 56 St & Madison Ave': 'up', 'Nostrand Ave & Myrtle Ave': 'down', 'W Broadway & Spring St': 'up', '5 Ave & E 73 St': 'up', 'Broadway & W 24 St': 'up', 'E 6 St & Avenue D': 'down', 'Laight St & Hudson St': 'up', 'South End Ave & Liberty St': 'up', '8 Ave & W 33 St': 'up', 'E 20 St & FDR Drive': 'up', 'McGuinness Blvd & Eagle St': 'up', 'Broadway & Battery Pl': 'up', 'Bialystoker Pl & Delancey St': 'up', 'Avenue D & E 3 St': 'up', 'W 67 St & Broadway': 'down', 'Murray St & West St': 'up', 'Rivington St & Ridge St': 'Null', 'Kosciuszko St & Nostrand Ave': 'down', 'E 67 St & Park Ave': 'up', 'W 51 St & 6 Ave': 'up', 'NYCBS Depot - DEL': 'down', '1 Ave & E 78 St': 'up', 'N 6 St & Bedford Ave': 'up', 'Emerson Pl & Myrtle Ave': 'up', 'Franklin St & W Broadway': 'up', 'E 16 St & Irving Pl': 'up', 'Greene Ave & Nostrand Ave': 'down', 'Marcy Ave & Lafayette Ave': 'up', 'India St & Manhattan Ave': 'up', 'Lorimer St & Broadway': 'down', 'E 81 St & Park Ave': 'up', 'NYCBS Depot - STY': 'Null', 'Watts St & Greenwich St': 'up', 'W 18 St & 6 Ave': 'up', 'E 17 St & Broadway': 'down', 'India St & East River': 'up', 'E 33 St & 2 Ave': 'up', 'E 77 St & 3 Ave': 'down', 'E 71 St & 2 Ave': 'up', 'Pulaski St & Marcus Garvey Blvd': 'down', '1 Ave & E 68 St': 'up', 'Franklin Ave & Myrtle Ave': 'up', 'W 46 St & 11 Ave': 'up', 'Allen St & Rivington St': 'up', 'Riverside Dr & W 82 St': 'up', 'E 77 St & Park Ave': 'down', 'Putnam Ave & Throop Ave': 'up', 'Fulton St & Grand Ave': 'down', 'Spruce St & Nassau St': 'up'}\n"
     ]
    }
   ],
   "source": [
    "import csv\n",
    "\n",
    "stations01 = []\n",
    "filename  = '201601-citibike-tripdata.csv'\n",
    "with open(filename, 'r') as csvfile:\n",
    "    filereader = csv.reader(csvfile, delimiter=\",\")\n",
    "    header = next(filereader)\n",
    "    for row in filereader:\n",
    "        stations01.append(row[4])\n",
    "        stations01.append(row[8])\n",
    "        \n",
    "stations02 = []\n",
    "filename  = '201602-citibike-tripdata.csv'\n",
    "with open(filename, 'r') as csvfile:\n",
    "    filereader = csv.reader(csvfile, delimiter=\",\")\n",
    "    header = next(filereader)\n",
    "    for row in filereader:\n",
    "        stations02.append(row[4])\n",
    "        stations02.append(row[8])\n",
    "        \n",
    "counts01={}\n",
    "uniquestations = set(stations01)\n",
    "for s in uniquestations:\n",
    "    counts01[s] = stations01.count(s)\n",
    "\n",
    "counts02={}\n",
    "uniquestations = set(stations02)\n",
    "for s in uniquestations:\n",
    "    counts02[s] = stations02.count(s)\n",
    "    \n",
    "treading = {}\n",
    "for station in uniquestations:\n",
    "    try:\n",
    "        if counts02[station] > counts01[station]:\n",
    "            treading[station] = \"up\"\n",
    "        elif counts02[station] <= counts01[station]:\n",
    "            treading[station] = \"down\"\n",
    "    except KeyError:\n",
    "        treading[station] = \"Null\"\n",
    "        \n",
    "print(treading)\n",
    "\n",
    "\n"
   ]
  }
 ],
 "metadata": {
  "kernelspec": {
   "display_name": "Python 3",
   "language": "python",
   "name": "python3"
  },
  "language_info": {
   "codemirror_mode": {
    "name": "ipython",
    "version": 3
   },
   "file_extension": ".py",
   "mimetype": "text/x-python",
   "name": "python",
   "nbconvert_exporter": "python",
   "pygments_lexer": "ipython3",
   "version": "3.4.3"
  }
 },
 "nbformat": 4,
 "nbformat_minor": 1
}
